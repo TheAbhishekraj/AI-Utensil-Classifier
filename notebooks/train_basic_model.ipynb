# --- IMPORTS ---
import tensorflow as tf, os, sys
from tensorflow.keras.preprocessing.image import ImageDataGenerator
from tensorflow.keras.models import Sequential
from tensorflow.keras.layers import Dense, GlobalAveragePooling2D, Dropout
from tensorflow.keras.applications import MobileNetV2
from tensorflow.keras.optimizers import Adam
# --- Add src folder to path to import our config ---
sys.path.append(os.path.abspath(os.path.join('..')))
from src import config
# --- DATA GENERATORS ---
train_datagen = ImageDataGenerator(rescale=1./255, rotation_range=25, horizontal_flip=True, validation_split=0.2)
validation_datagen = ImageDataGenerator(rescale=1./255, validation_split=0.2)
train_generator = train_datagen.flow_from_directory(config.DATA_PATH, target_size=config.IMAGE_SIZE, batch_size=config.BATCH_SIZE, class_mode='categorical', subset='training')
validation_generator = validation_datagen.flow_from_directory(config.DATA_PATH, target_size=config.IMAGE_SIZE, batch_size=config.BATCH_SIZE, class_mode='categorical', subset='validation')
num_classes = len(train_generator.class_indices)
# --- BUILD & TRAIN ---
base_model = MobileNetV2(input_shape=(config.IMAGE_HEIGHT, config.IMAGE_WIDTH, 3), include_top=False, weights='imagenet')
base_model.trainable = False
model = Sequential([base_model, GlobalAveragePooling2D(), Dropout(0.5), Dense(num_classes, activation='softmax')])
model.compile(optimizer=Adam(learning_rate=config.INITIAL_LR), loss='categorical_crossentropy', metrics=['accuracy'])
model.summary()
print("\n--- Training Basic Model ---")
model.fit(train_generator, epochs=config.INITIAL_EPOCHS, validation_data=validation_generator)
model.save(os.path.join(config.MODELS_PATH, config.BASIC_MODEL_NAME))
print(f"\n✅ Basic model saved!")
